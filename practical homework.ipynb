{
 "cells": [
  {
   "cell_type": "code",
   "execution_count": 40,
   "id": "ad783682",
   "metadata": {},
   "outputs": [],
   "source": [
    "#Practical 1 : Create a Data Frame and perform Matrix-like Operations on Data Frame(Creating a random data frame)"
   ]
  },
  {
   "cell_type": "code",
   "execution_count": 1,
   "id": "60c33820",
   "metadata": {},
   "outputs": [],
   "source": [
    "import pandas as pd\n",
    "import numpy as np"
   ]
  },
  {
   "cell_type": "code",
   "execution_count": 16,
   "id": "49bd4fb0",
   "metadata": {},
   "outputs": [],
   "source": [
    "data = np.random.randn(5,5)"
   ]
  },
  {
   "cell_type": "code",
   "execution_count": 17,
   "id": "fee5ff2b",
   "metadata": {},
   "outputs": [],
   "source": [
    "df = pd.DataFrame(data)"
   ]
  },
  {
   "cell_type": "code",
   "execution_count": 18,
   "id": "62b17a2d",
   "metadata": {},
   "outputs": [
    {
     "data": {
      "text/html": [
       "<div>\n",
       "<style scoped>\n",
       "    .dataframe tbody tr th:only-of-type {\n",
       "        vertical-align: middle;\n",
       "    }\n",
       "\n",
       "    .dataframe tbody tr th {\n",
       "        vertical-align: top;\n",
       "    }\n",
       "\n",
       "    .dataframe thead th {\n",
       "        text-align: right;\n",
       "    }\n",
       "</style>\n",
       "<table border=\"1\" class=\"dataframe\">\n",
       "  <thead>\n",
       "    <tr style=\"text-align: right;\">\n",
       "      <th></th>\n",
       "      <th>0</th>\n",
       "      <th>1</th>\n",
       "      <th>2</th>\n",
       "      <th>3</th>\n",
       "      <th>4</th>\n",
       "    </tr>\n",
       "  </thead>\n",
       "  <tbody>\n",
       "    <tr>\n",
       "      <th>0</th>\n",
       "      <td>-0.052425</td>\n",
       "      <td>0.404987</td>\n",
       "      <td>-0.210183</td>\n",
       "      <td>-1.114964</td>\n",
       "      <td>0.102501</td>\n",
       "    </tr>\n",
       "    <tr>\n",
       "      <th>1</th>\n",
       "      <td>0.867855</td>\n",
       "      <td>1.011995</td>\n",
       "      <td>-0.521919</td>\n",
       "      <td>0.946192</td>\n",
       "      <td>-0.177486</td>\n",
       "    </tr>\n",
       "    <tr>\n",
       "      <th>2</th>\n",
       "      <td>0.056298</td>\n",
       "      <td>0.110110</td>\n",
       "      <td>1.160098</td>\n",
       "      <td>-0.442963</td>\n",
       "      <td>0.054939</td>\n",
       "    </tr>\n",
       "    <tr>\n",
       "      <th>3</th>\n",
       "      <td>-0.910430</td>\n",
       "      <td>0.596232</td>\n",
       "      <td>-1.041146</td>\n",
       "      <td>0.060114</td>\n",
       "      <td>-1.252006</td>\n",
       "    </tr>\n",
       "    <tr>\n",
       "      <th>4</th>\n",
       "      <td>-1.109831</td>\n",
       "      <td>-0.504834</td>\n",
       "      <td>-0.546843</td>\n",
       "      <td>-0.298232</td>\n",
       "      <td>0.492195</td>\n",
       "    </tr>\n",
       "  </tbody>\n",
       "</table>\n",
       "</div>"
      ],
      "text/plain": [
       "          0         1         2         3         4\n",
       "0 -0.052425  0.404987 -0.210183 -1.114964  0.102501\n",
       "1  0.867855  1.011995 -0.521919  0.946192 -0.177486\n",
       "2  0.056298  0.110110  1.160098 -0.442963  0.054939\n",
       "3 -0.910430  0.596232 -1.041146  0.060114 -1.252006\n",
       "4 -1.109831 -0.504834 -0.546843 -0.298232  0.492195"
      ]
     },
     "execution_count": 18,
     "metadata": {},
     "output_type": "execute_result"
    }
   ],
   "source": [
    "df"
   ]
  },
  {
   "cell_type": "code",
   "execution_count": 33,
   "id": "13ae4550",
   "metadata": {},
   "outputs": [],
   "source": [
    "s = pd.Series([1,2,3,4,5])"
   ]
  },
  {
   "cell_type": "code",
   "execution_count": 35,
   "id": "3ac086ee",
   "metadata": {},
   "outputs": [
    {
     "data": {
      "text/plain": [
       "0   -3.820350\n",
       "1    4.223423\n",
       "2    2.259654\n",
       "3   -8.860981\n",
       "4   -2.491978\n",
       "dtype: float64"
      ]
     },
     "execution_count": 35,
     "metadata": {},
     "output_type": "execute_result"
    }
   ],
   "source": [
    "df.dot(s)"
   ]
  },
  {
   "cell_type": "code",
   "execution_count": 36,
   "id": "726cfcd7",
   "metadata": {},
   "outputs": [
    {
     "data": {
      "text/html": [
       "<div>\n",
       "<style scoped>\n",
       "    .dataframe tbody tr th:only-of-type {\n",
       "        vertical-align: middle;\n",
       "    }\n",
       "\n",
       "    .dataframe tbody tr th {\n",
       "        vertical-align: top;\n",
       "    }\n",
       "\n",
       "    .dataframe thead th {\n",
       "        text-align: right;\n",
       "    }\n",
       "</style>\n",
       "<table border=\"1\" class=\"dataframe\">\n",
       "  <thead>\n",
       "    <tr style=\"text-align: right;\">\n",
       "      <th></th>\n",
       "      <th>0</th>\n",
       "      <th>1</th>\n",
       "      <th>2</th>\n",
       "      <th>3</th>\n",
       "      <th>4</th>\n",
       "    </tr>\n",
       "  </thead>\n",
       "  <tbody>\n",
       "    <tr>\n",
       "      <th>0</th>\n",
       "      <td>0.947575</td>\n",
       "      <td>2.404987</td>\n",
       "      <td>2.789817</td>\n",
       "      <td>2.885036</td>\n",
       "      <td>5.102501</td>\n",
       "    </tr>\n",
       "    <tr>\n",
       "      <th>1</th>\n",
       "      <td>1.867855</td>\n",
       "      <td>3.011995</td>\n",
       "      <td>2.478081</td>\n",
       "      <td>4.946192</td>\n",
       "      <td>4.822514</td>\n",
       "    </tr>\n",
       "    <tr>\n",
       "      <th>2</th>\n",
       "      <td>1.056298</td>\n",
       "      <td>2.110110</td>\n",
       "      <td>4.160098</td>\n",
       "      <td>3.557037</td>\n",
       "      <td>5.054939</td>\n",
       "    </tr>\n",
       "    <tr>\n",
       "      <th>3</th>\n",
       "      <td>0.089570</td>\n",
       "      <td>2.596232</td>\n",
       "      <td>1.958854</td>\n",
       "      <td>4.060114</td>\n",
       "      <td>3.747994</td>\n",
       "    </tr>\n",
       "    <tr>\n",
       "      <th>4</th>\n",
       "      <td>-0.109831</td>\n",
       "      <td>1.495166</td>\n",
       "      <td>2.453157</td>\n",
       "      <td>3.701768</td>\n",
       "      <td>5.492195</td>\n",
       "    </tr>\n",
       "  </tbody>\n",
       "</table>\n",
       "</div>"
      ],
      "text/plain": [
       "          0         1         2         3         4\n",
       "0  0.947575  2.404987  2.789817  2.885036  5.102501\n",
       "1  1.867855  3.011995  2.478081  4.946192  4.822514\n",
       "2  1.056298  2.110110  4.160098  3.557037  5.054939\n",
       "3  0.089570  2.596232  1.958854  4.060114  3.747994\n",
       "4 -0.109831  1.495166  2.453157  3.701768  5.492195"
      ]
     },
     "execution_count": 36,
     "metadata": {},
     "output_type": "execute_result"
    }
   ],
   "source": [
    "df.add(s)"
   ]
  },
  {
   "cell_type": "code",
   "execution_count": 37,
   "id": "2ecfffc1",
   "metadata": {},
   "outputs": [
    {
     "data": {
      "text/html": [
       "<div>\n",
       "<style scoped>\n",
       "    .dataframe tbody tr th:only-of-type {\n",
       "        vertical-align: middle;\n",
       "    }\n",
       "\n",
       "    .dataframe tbody tr th {\n",
       "        vertical-align: top;\n",
       "    }\n",
       "\n",
       "    .dataframe thead th {\n",
       "        text-align: right;\n",
       "    }\n",
       "</style>\n",
       "<table border=\"1\" class=\"dataframe\">\n",
       "  <thead>\n",
       "    <tr style=\"text-align: right;\">\n",
       "      <th></th>\n",
       "      <th>0</th>\n",
       "      <th>1</th>\n",
       "      <th>2</th>\n",
       "      <th>3</th>\n",
       "      <th>4</th>\n",
       "    </tr>\n",
       "  </thead>\n",
       "  <tbody>\n",
       "    <tr>\n",
       "      <th>0</th>\n",
       "      <td>-1.052425</td>\n",
       "      <td>-1.595013</td>\n",
       "      <td>-3.210183</td>\n",
       "      <td>-5.114964</td>\n",
       "      <td>-4.897499</td>\n",
       "    </tr>\n",
       "    <tr>\n",
       "      <th>1</th>\n",
       "      <td>-0.132145</td>\n",
       "      <td>-0.988005</td>\n",
       "      <td>-3.521919</td>\n",
       "      <td>-3.053808</td>\n",
       "      <td>-5.177486</td>\n",
       "    </tr>\n",
       "    <tr>\n",
       "      <th>2</th>\n",
       "      <td>-0.943702</td>\n",
       "      <td>-1.889890</td>\n",
       "      <td>-1.839902</td>\n",
       "      <td>-4.442963</td>\n",
       "      <td>-4.945061</td>\n",
       "    </tr>\n",
       "    <tr>\n",
       "      <th>3</th>\n",
       "      <td>-1.910430</td>\n",
       "      <td>-1.403768</td>\n",
       "      <td>-4.041146</td>\n",
       "      <td>-3.939886</td>\n",
       "      <td>-6.252006</td>\n",
       "    </tr>\n",
       "    <tr>\n",
       "      <th>4</th>\n",
       "      <td>-2.109831</td>\n",
       "      <td>-2.504834</td>\n",
       "      <td>-3.546843</td>\n",
       "      <td>-4.298232</td>\n",
       "      <td>-4.507805</td>\n",
       "    </tr>\n",
       "  </tbody>\n",
       "</table>\n",
       "</div>"
      ],
      "text/plain": [
       "          0         1         2         3         4\n",
       "0 -1.052425 -1.595013 -3.210183 -5.114964 -4.897499\n",
       "1 -0.132145 -0.988005 -3.521919 -3.053808 -5.177486\n",
       "2 -0.943702 -1.889890 -1.839902 -4.442963 -4.945061\n",
       "3 -1.910430 -1.403768 -4.041146 -3.939886 -6.252006\n",
       "4 -2.109831 -2.504834 -3.546843 -4.298232 -4.507805"
      ]
     },
     "execution_count": 37,
     "metadata": {},
     "output_type": "execute_result"
    }
   ],
   "source": [
    "df.sub(s)"
   ]
  },
  {
   "cell_type": "code",
   "execution_count": 38,
   "id": "44b6f6be",
   "metadata": {},
   "outputs": [
    {
     "data": {
      "text/html": [
       "<div>\n",
       "<style scoped>\n",
       "    .dataframe tbody tr th:only-of-type {\n",
       "        vertical-align: middle;\n",
       "    }\n",
       "\n",
       "    .dataframe tbody tr th {\n",
       "        vertical-align: top;\n",
       "    }\n",
       "\n",
       "    .dataframe thead th {\n",
       "        text-align: right;\n",
       "    }\n",
       "</style>\n",
       "<table border=\"1\" class=\"dataframe\">\n",
       "  <thead>\n",
       "    <tr style=\"text-align: right;\">\n",
       "      <th></th>\n",
       "      <th>0</th>\n",
       "      <th>1</th>\n",
       "      <th>2</th>\n",
       "      <th>3</th>\n",
       "      <th>4</th>\n",
       "    </tr>\n",
       "  </thead>\n",
       "  <tbody>\n",
       "    <tr>\n",
       "      <th>0</th>\n",
       "      <td>-0.052425</td>\n",
       "      <td>0.809973</td>\n",
       "      <td>-0.630549</td>\n",
       "      <td>-4.459854</td>\n",
       "      <td>0.512504</td>\n",
       "    </tr>\n",
       "    <tr>\n",
       "      <th>1</th>\n",
       "      <td>0.867855</td>\n",
       "      <td>2.023990</td>\n",
       "      <td>-1.565758</td>\n",
       "      <td>3.784770</td>\n",
       "      <td>-0.887432</td>\n",
       "    </tr>\n",
       "    <tr>\n",
       "      <th>2</th>\n",
       "      <td>0.056298</td>\n",
       "      <td>0.220220</td>\n",
       "      <td>3.480294</td>\n",
       "      <td>-1.771852</td>\n",
       "      <td>0.274695</td>\n",
       "    </tr>\n",
       "    <tr>\n",
       "      <th>3</th>\n",
       "      <td>-0.910430</td>\n",
       "      <td>1.192464</td>\n",
       "      <td>-3.123438</td>\n",
       "      <td>0.240455</td>\n",
       "      <td>-6.260032</td>\n",
       "    </tr>\n",
       "    <tr>\n",
       "      <th>4</th>\n",
       "      <td>-1.109831</td>\n",
       "      <td>-1.009668</td>\n",
       "      <td>-1.640528</td>\n",
       "      <td>-1.192927</td>\n",
       "      <td>2.460976</td>\n",
       "    </tr>\n",
       "  </tbody>\n",
       "</table>\n",
       "</div>"
      ],
      "text/plain": [
       "          0         1         2         3         4\n",
       "0 -0.052425  0.809973 -0.630549 -4.459854  0.512504\n",
       "1  0.867855  2.023990 -1.565758  3.784770 -0.887432\n",
       "2  0.056298  0.220220  3.480294 -1.771852  0.274695\n",
       "3 -0.910430  1.192464 -3.123438  0.240455 -6.260032\n",
       "4 -1.109831 -1.009668 -1.640528 -1.192927  2.460976"
      ]
     },
     "execution_count": 38,
     "metadata": {},
     "output_type": "execute_result"
    }
   ],
   "source": [
    "df.mul(s)"
   ]
  },
  {
   "cell_type": "code",
   "execution_count": 39,
   "id": "40adb786",
   "metadata": {},
   "outputs": [
    {
     "data": {
      "text/html": [
       "<div>\n",
       "<style scoped>\n",
       "    .dataframe tbody tr th:only-of-type {\n",
       "        vertical-align: middle;\n",
       "    }\n",
       "\n",
       "    .dataframe tbody tr th {\n",
       "        vertical-align: top;\n",
       "    }\n",
       "\n",
       "    .dataframe thead th {\n",
       "        text-align: right;\n",
       "    }\n",
       "</style>\n",
       "<table border=\"1\" class=\"dataframe\">\n",
       "  <thead>\n",
       "    <tr style=\"text-align: right;\">\n",
       "      <th></th>\n",
       "      <th>0</th>\n",
       "      <th>1</th>\n",
       "      <th>2</th>\n",
       "      <th>3</th>\n",
       "      <th>4</th>\n",
       "    </tr>\n",
       "  </thead>\n",
       "  <tbody>\n",
       "    <tr>\n",
       "      <th>0</th>\n",
       "      <td>-0.052425</td>\n",
       "      <td>0.202493</td>\n",
       "      <td>-0.070061</td>\n",
       "      <td>-0.278741</td>\n",
       "      <td>0.020500</td>\n",
       "    </tr>\n",
       "    <tr>\n",
       "      <th>1</th>\n",
       "      <td>0.867855</td>\n",
       "      <td>0.505997</td>\n",
       "      <td>-0.173973</td>\n",
       "      <td>0.236548</td>\n",
       "      <td>-0.035497</td>\n",
       "    </tr>\n",
       "    <tr>\n",
       "      <th>2</th>\n",
       "      <td>0.056298</td>\n",
       "      <td>0.055055</td>\n",
       "      <td>0.386699</td>\n",
       "      <td>-0.110741</td>\n",
       "      <td>0.010988</td>\n",
       "    </tr>\n",
       "    <tr>\n",
       "      <th>3</th>\n",
       "      <td>-0.910430</td>\n",
       "      <td>0.298116</td>\n",
       "      <td>-0.347049</td>\n",
       "      <td>0.015028</td>\n",
       "      <td>-0.250401</td>\n",
       "    </tr>\n",
       "    <tr>\n",
       "      <th>4</th>\n",
       "      <td>-1.109831</td>\n",
       "      <td>-0.252417</td>\n",
       "      <td>-0.182281</td>\n",
       "      <td>-0.074558</td>\n",
       "      <td>0.098439</td>\n",
       "    </tr>\n",
       "  </tbody>\n",
       "</table>\n",
       "</div>"
      ],
      "text/plain": [
       "          0         1         2         3         4\n",
       "0 -0.052425  0.202493 -0.070061 -0.278741  0.020500\n",
       "1  0.867855  0.505997 -0.173973  0.236548 -0.035497\n",
       "2  0.056298  0.055055  0.386699 -0.110741  0.010988\n",
       "3 -0.910430  0.298116 -0.347049  0.015028 -0.250401\n",
       "4 -1.109831 -0.252417 -0.182281 -0.074558  0.098439"
      ]
     },
     "execution_count": 39,
     "metadata": {},
     "output_type": "execute_result"
    }
   ],
   "source": [
    "df.div(s)"
   ]
  },
  {
   "cell_type": "code",
   "execution_count": null,
   "id": "e2bb70ac",
   "metadata": {},
   "outputs": [],
   "source": [
    "#Practical 2"
   ]
  },
  {
   "cell_type": "code",
   "execution_count": 19,
   "id": "101eb4f2",
   "metadata": {},
   "outputs": [
    {
     "data": {
      "text/plain": [
       "0   -1.148533\n",
       "1    1.618490\n",
       "2   -1.159993\n",
       "3   -0.849852\n",
       "4   -0.779858\n",
       "dtype: float64"
      ]
     },
     "execution_count": 19,
     "metadata": {},
     "output_type": "execute_result"
    }
   ],
   "source": [
    "df.sum()"
   ]
  },
  {
   "cell_type": "code",
   "execution_count": 20,
   "id": "7e473755",
   "metadata": {},
   "outputs": [
    {
     "data": {
      "text/plain": [
       "0   -0.229707\n",
       "1    0.323698\n",
       "2   -0.231999\n",
       "3   -0.169970\n",
       "4   -0.155972\n",
       "dtype: float64"
      ]
     },
     "execution_count": 20,
     "metadata": {},
     "output_type": "execute_result"
    }
   ],
   "source": [
    "df.mean()"
   ]
  },
  {
   "cell_type": "code",
   "execution_count": 23,
   "id": "475e6aca",
   "metadata": {},
   "outputs": [
    {
     "data": {
      "text/plain": [
       "0    0.799355\n",
       "1    0.567168\n",
       "2    0.833113\n",
       "3    0.755438\n",
       "4    0.658249\n",
       "dtype: float64"
      ]
     },
     "execution_count": 23,
     "metadata": {},
     "output_type": "execute_result"
    }
   ],
   "source": [
    "df.std()"
   ]
  },
  {
   "cell_type": "code",
   "execution_count": 25,
   "id": "eeddae20",
   "metadata": {},
   "outputs": [
    {
     "data": {
      "text/plain": [
       "0    0.638968\n",
       "1    0.321680\n",
       "2    0.694077\n",
       "3    0.570687\n",
       "4    0.433292\n",
       "dtype: float64"
      ]
     },
     "execution_count": 25,
     "metadata": {},
     "output_type": "execute_result"
    }
   ],
   "source": [
    "df.var()"
   ]
  },
  {
   "cell_type": "code",
   "execution_count": 26,
   "id": "c71b0f1d",
   "metadata": {},
   "outputs": [
    {
     "data": {
      "text/plain": [
       "0   -1.109831\n",
       "1   -0.504834\n",
       "2   -1.041146\n",
       "3   -1.114964\n",
       "4   -1.252006\n",
       "dtype: float64"
      ]
     },
     "execution_count": 26,
     "metadata": {},
     "output_type": "execute_result"
    }
   ],
   "source": [
    "df.min()"
   ]
  },
  {
   "cell_type": "code",
   "execution_count": 27,
   "id": "b256de1f",
   "metadata": {},
   "outputs": [
    {
     "data": {
      "text/plain": [
       "0    0.867855\n",
       "1    1.011995\n",
       "2    1.160098\n",
       "3    0.946192\n",
       "4    0.492195\n",
       "dtype: float64"
      ]
     },
     "execution_count": 27,
     "metadata": {},
     "output_type": "execute_result"
    }
   ],
   "source": [
    "df.max()"
   ]
  },
  {
   "cell_type": "code",
   "execution_count": 29,
   "id": "8af51b32",
   "metadata": {},
   "outputs": [
    {
     "data": {
      "text/html": [
       "<div>\n",
       "<style scoped>\n",
       "    .dataframe tbody tr th:only-of-type {\n",
       "        vertical-align: middle;\n",
       "    }\n",
       "\n",
       "    .dataframe tbody tr th {\n",
       "        vertical-align: top;\n",
       "    }\n",
       "\n",
       "    .dataframe thead th {\n",
       "        text-align: right;\n",
       "    }\n",
       "</style>\n",
       "<table border=\"1\" class=\"dataframe\">\n",
       "  <thead>\n",
       "    <tr style=\"text-align: right;\">\n",
       "      <th></th>\n",
       "      <th>0</th>\n",
       "      <th>1</th>\n",
       "      <th>2</th>\n",
       "      <th>3</th>\n",
       "      <th>4</th>\n",
       "    </tr>\n",
       "  </thead>\n",
       "  <tbody>\n",
       "    <tr>\n",
       "      <th>0</th>\n",
       "      <td>-0.052425</td>\n",
       "      <td>0.404987</td>\n",
       "      <td>-0.210183</td>\n",
       "      <td>-1.114964</td>\n",
       "      <td>0.102501</td>\n",
       "    </tr>\n",
       "    <tr>\n",
       "      <th>1</th>\n",
       "      <td>0.815430</td>\n",
       "      <td>1.416982</td>\n",
       "      <td>-0.732102</td>\n",
       "      <td>-0.168771</td>\n",
       "      <td>-0.074986</td>\n",
       "    </tr>\n",
       "    <tr>\n",
       "      <th>2</th>\n",
       "      <td>0.871728</td>\n",
       "      <td>1.527092</td>\n",
       "      <td>0.427996</td>\n",
       "      <td>-0.611734</td>\n",
       "      <td>-0.020047</td>\n",
       "    </tr>\n",
       "    <tr>\n",
       "      <th>3</th>\n",
       "      <td>-0.038702</td>\n",
       "      <td>2.123324</td>\n",
       "      <td>-0.613150</td>\n",
       "      <td>-0.551620</td>\n",
       "      <td>-1.272053</td>\n",
       "    </tr>\n",
       "    <tr>\n",
       "      <th>4</th>\n",
       "      <td>-1.148533</td>\n",
       "      <td>1.618490</td>\n",
       "      <td>-1.159993</td>\n",
       "      <td>-0.849852</td>\n",
       "      <td>-0.779858</td>\n",
       "    </tr>\n",
       "  </tbody>\n",
       "</table>\n",
       "</div>"
      ],
      "text/plain": [
       "          0         1         2         3         4\n",
       "0 -0.052425  0.404987 -0.210183 -1.114964  0.102501\n",
       "1  0.815430  1.416982 -0.732102 -0.168771 -0.074986\n",
       "2  0.871728  1.527092  0.427996 -0.611734 -0.020047\n",
       "3 -0.038702  2.123324 -0.613150 -0.551620 -1.272053\n",
       "4 -1.148533  1.618490 -1.159993 -0.849852 -0.779858"
      ]
     },
     "execution_count": 29,
     "metadata": {},
     "output_type": "execute_result"
    }
   ],
   "source": [
    "df.cumsum()"
   ]
  },
  {
   "cell_type": "code",
   "execution_count": 30,
   "id": "7acaebb6",
   "metadata": {},
   "outputs": [
    {
     "data": {
      "text/html": [
       "<div>\n",
       "<style scoped>\n",
       "    .dataframe tbody tr th:only-of-type {\n",
       "        vertical-align: middle;\n",
       "    }\n",
       "\n",
       "    .dataframe tbody tr th {\n",
       "        vertical-align: top;\n",
       "    }\n",
       "\n",
       "    .dataframe thead th {\n",
       "        text-align: right;\n",
       "    }\n",
       "</style>\n",
       "<table border=\"1\" class=\"dataframe\">\n",
       "  <thead>\n",
       "    <tr style=\"text-align: right;\">\n",
       "      <th></th>\n",
       "      <th>0</th>\n",
       "      <th>1</th>\n",
       "      <th>2</th>\n",
       "      <th>3</th>\n",
       "      <th>4</th>\n",
       "    </tr>\n",
       "  </thead>\n",
       "  <tbody>\n",
       "    <tr>\n",
       "      <th>0</th>\n",
       "      <td>-0.052425</td>\n",
       "      <td>0.404987</td>\n",
       "      <td>-0.210183</td>\n",
       "      <td>-1.114964</td>\n",
       "      <td>0.102501</td>\n",
       "    </tr>\n",
       "    <tr>\n",
       "      <th>1</th>\n",
       "      <td>-0.045497</td>\n",
       "      <td>0.409845</td>\n",
       "      <td>0.109699</td>\n",
       "      <td>-1.054970</td>\n",
       "      <td>-0.018193</td>\n",
       "    </tr>\n",
       "    <tr>\n",
       "      <th>2</th>\n",
       "      <td>-0.002561</td>\n",
       "      <td>0.045128</td>\n",
       "      <td>0.127261</td>\n",
       "      <td>0.467313</td>\n",
       "      <td>-0.000999</td>\n",
       "    </tr>\n",
       "    <tr>\n",
       "      <th>3</th>\n",
       "      <td>0.002332</td>\n",
       "      <td>0.026907</td>\n",
       "      <td>-0.132497</td>\n",
       "      <td>0.028092</td>\n",
       "      <td>0.001251</td>\n",
       "    </tr>\n",
       "    <tr>\n",
       "      <th>4</th>\n",
       "      <td>-0.002588</td>\n",
       "      <td>-0.013583</td>\n",
       "      <td>0.072455</td>\n",
       "      <td>-0.008378</td>\n",
       "      <td>0.000616</td>\n",
       "    </tr>\n",
       "  </tbody>\n",
       "</table>\n",
       "</div>"
      ],
      "text/plain": [
       "          0         1         2         3         4\n",
       "0 -0.052425  0.404987 -0.210183 -1.114964  0.102501\n",
       "1 -0.045497  0.409845  0.109699 -1.054970 -0.018193\n",
       "2 -0.002561  0.045128  0.127261  0.467313 -0.000999\n",
       "3  0.002332  0.026907 -0.132497  0.028092  0.001251\n",
       "4 -0.002588 -0.013583  0.072455 -0.008378  0.000616"
      ]
     },
     "execution_count": 30,
     "metadata": {},
     "output_type": "execute_result"
    }
   ],
   "source": [
    "df.cumprod()"
   ]
  },
  {
   "cell_type": "code",
   "execution_count": 5,
   "id": "41f83ceb",
   "metadata": {},
   "outputs": [],
   "source": [
    "#Practical 3 (Creating a data frame from given data of employee)"
   ]
  },
  {
   "cell_type": "code",
   "execution_count": 13,
   "id": "5b2bcd89",
   "metadata": {},
   "outputs": [],
   "source": [
    "data_of_Employee = {'EMP ID':[1,2,3,4,5], 'EMP NAME':['Satish','Reeya','jay','Roy','Serah'], 'SALARY': [50000,75000,100000,45000,55000], 'START DATE':['01-11-2017','12-05-2016','22-09-2015','08-01-2017','06-02-2018']}"
   ]
  },
  {
   "cell_type": "code",
   "execution_count": 21,
   "id": "b395206d",
   "metadata": {},
   "outputs": [],
   "source": [
    "df1 = pd.DataFrame(data_of_Employee)"
   ]
  },
  {
   "cell_type": "code",
   "execution_count": 22,
   "id": "21609108",
   "metadata": {},
   "outputs": [
    {
     "data": {
      "text/html": [
       "<div>\n",
       "<style scoped>\n",
       "    .dataframe tbody tr th:only-of-type {\n",
       "        vertical-align: middle;\n",
       "    }\n",
       "\n",
       "    .dataframe tbody tr th {\n",
       "        vertical-align: top;\n",
       "    }\n",
       "\n",
       "    .dataframe thead th {\n",
       "        text-align: right;\n",
       "    }\n",
       "</style>\n",
       "<table border=\"1\" class=\"dataframe\">\n",
       "  <thead>\n",
       "    <tr style=\"text-align: right;\">\n",
       "      <th></th>\n",
       "      <th>EMP ID</th>\n",
       "      <th>EMP NAME</th>\n",
       "      <th>SALARY</th>\n",
       "      <th>START DATE</th>\n",
       "    </tr>\n",
       "  </thead>\n",
       "  <tbody>\n",
       "    <tr>\n",
       "      <th>0</th>\n",
       "      <td>1</td>\n",
       "      <td>Satish</td>\n",
       "      <td>50000</td>\n",
       "      <td>01-11-2017</td>\n",
       "    </tr>\n",
       "    <tr>\n",
       "      <th>1</th>\n",
       "      <td>2</td>\n",
       "      <td>Reeya</td>\n",
       "      <td>75000</td>\n",
       "      <td>12-05-2016</td>\n",
       "    </tr>\n",
       "    <tr>\n",
       "      <th>2</th>\n",
       "      <td>3</td>\n",
       "      <td>jay</td>\n",
       "      <td>100000</td>\n",
       "      <td>22-09-2015</td>\n",
       "    </tr>\n",
       "    <tr>\n",
       "      <th>3</th>\n",
       "      <td>4</td>\n",
       "      <td>Roy</td>\n",
       "      <td>45000</td>\n",
       "      <td>08-01-2017</td>\n",
       "    </tr>\n",
       "    <tr>\n",
       "      <th>4</th>\n",
       "      <td>5</td>\n",
       "      <td>Serah</td>\n",
       "      <td>55000</td>\n",
       "      <td>06-02-2018</td>\n",
       "    </tr>\n",
       "  </tbody>\n",
       "</table>\n",
       "</div>"
      ],
      "text/plain": [
       "   EMP ID EMP NAME  SALARY  START DATE\n",
       "0       1   Satish   50000  01-11-2017\n",
       "1       2    Reeya   75000  12-05-2016\n",
       "2       3      jay  100000  22-09-2015\n",
       "3       4      Roy   45000  08-01-2017\n",
       "4       5    Serah   55000  06-02-2018"
      ]
     },
     "execution_count": 22,
     "metadata": {},
     "output_type": "execute_result"
    }
   ],
   "source": [
    "df1"
   ]
  },
  {
   "cell_type": "code",
   "execution_count": null,
   "id": "39bfe187",
   "metadata": {},
   "outputs": [],
   "source": []
  }
 ],
 "metadata": {
  "kernelspec": {
   "display_name": "Python 3 (ipykernel)",
   "language": "python",
   "name": "python3"
  },
  "language_info": {
   "codemirror_mode": {
    "name": "ipython",
    "version": 3
   },
   "file_extension": ".py",
   "mimetype": "text/x-python",
   "name": "python",
   "nbconvert_exporter": "python",
   "pygments_lexer": "ipython3",
   "version": "3.9.13"
  }
 },
 "nbformat": 4,
 "nbformat_minor": 5
}
